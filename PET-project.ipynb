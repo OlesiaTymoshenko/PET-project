{
 "cells": [
  {
   "cell_type": "code",
   "execution_count": null,
   "id": "b8e9856c-b4d6-4689-9d22-2249bf568475",
   "metadata": {},
   "outputs": [],
   "source": [
    "# PET-проєкт \"Аналіз рентабельності онлайн продажів\": етап імпортування та перевірки даних."
   ]
  },
  {
   "cell_type": "code",
   "execution_count": 1,
   "id": "b6f1167c-14b7-42a7-bae3-e469292014cf",
   "metadata": {},
   "outputs": [],
   "source": [
    "# Імпортування бібліотеки\n",
    "import pandas as pd"
   ]
  },
  {
   "cell_type": "code",
   "execution_count": 3,
   "id": "4d331c4e-eb66-48f7-a0a9-c24976c4876d",
   "metadata": {},
   "outputs": [
    {
     "name": "stdout",
     "output_type": "stream",
     "text": [
      "<class 'pandas.core.frame.DataFrame'>\n",
      "<class 'pandas.core.frame.DataFrame'>\n"
     ]
    }
   ],
   "source": [
    "# Завантаження даних і збереження в змінних\n",
    "orders = pd.read_csv('orders.csv')\n",
    "details = pd.read_csv('details.csv')\n",
    "print(type(orders))\n",
    "print(type(details))"
   ]
  },
  {
   "cell_type": "code",
   "execution_count": null,
   "id": "063ac563-0820-4dbd-8775-7bd20a179d4a",
   "metadata": {},
   "outputs": [],
   "source": [
    "# Oтримання загальної інформації i перевірка правильності присвоєних типів даних, наявність null значень в колонках та дублікатів"
   ]
  },
  {
   "cell_type": "code",
   "execution_count": 4,
   "id": "04c9406c-3d52-4de0-908c-ce2b4e71fa89",
   "metadata": {},
   "outputs": [
    {
     "name": "stdout",
     "output_type": "stream",
     "text": [
      "<class 'pandas.core.frame.DataFrame'>\n",
      "RangeIndex: 500 entries, 0 to 499\n",
      "Data columns (total 5 columns):\n",
      " #   Column        Non-Null Count  Dtype \n",
      "---  ------        --------------  ----- \n",
      " 0   Order ID      500 non-null    object\n",
      " 1   Order Date    500 non-null    object\n",
      " 2   CustomerName  500 non-null    object\n",
      " 3   State         500 non-null    object\n",
      " 4   City          500 non-null    object\n",
      "dtypes: object(5)\n",
      "memory usage: 19.7+ KB\n",
      "<class 'pandas.core.frame.DataFrame'>\n",
      "RangeIndex: 1500 entries, 0 to 1499\n",
      "Data columns (total 7 columns):\n",
      " #   Column        Non-Null Count  Dtype \n",
      "---  ------        --------------  ----- \n",
      " 0   Order ID      1500 non-null   object\n",
      " 1   Sales         1500 non-null   int64 \n",
      " 2   Profit        1500 non-null   int64 \n",
      " 3   Quantity      1500 non-null   int64 \n",
      " 4   Category      1500 non-null   object\n",
      " 5   Sub-Category  1500 non-null   object\n",
      " 6   PaymentMode   1500 non-null   object\n",
      "dtypes: int64(3), object(4)\n",
      "memory usage: 82.2+ KB\n"
     ]
    }
   ],
   "source": [
    "orders.info()\n",
    "details.info()"
   ]
  },
  {
   "cell_type": "code",
   "execution_count": 5,
   "id": "d713e590-8bf1-44c6-8e40-15d6beec272e",
   "metadata": {},
   "outputs": [
    {
     "data": {
      "text/plain": [
       "Order ID        0\n",
       "Order Date      0\n",
       "CustomerName    0\n",
       "State           0\n",
       "City            0\n",
       "dtype: int64"
      ]
     },
     "execution_count": 5,
     "metadata": {},
     "output_type": "execute_result"
    }
   ],
   "source": [
    "orders.isnull().sum()"
   ]
  },
  {
   "cell_type": "code",
   "execution_count": 6,
   "id": "f1b67240-3e21-4530-946f-9f8d16303d20",
   "metadata": {},
   "outputs": [
    {
     "data": {
      "text/plain": [
       "Order ID        0\n",
       "Sales           0\n",
       "Profit          0\n",
       "Quantity        0\n",
       "Category        0\n",
       "Sub-Category    0\n",
       "PaymentMode     0\n",
       "dtype: int64"
      ]
     },
     "execution_count": 6,
     "metadata": {},
     "output_type": "execute_result"
    }
   ],
   "source": [
    "details.isnull().sum()"
   ]
  },
  {
   "cell_type": "code",
   "execution_count": 7,
   "id": "b67d7b1b-1e09-47ec-a250-35aaf0d70884",
   "metadata": {},
   "outputs": [
    {
     "data": {
      "text/plain": [
       "0"
      ]
     },
     "execution_count": 7,
     "metadata": {},
     "output_type": "execute_result"
    }
   ],
   "source": [
    "orders.duplicated().sum()"
   ]
  },
  {
   "cell_type": "code",
   "execution_count": 8,
   "id": "18fe5547-c876-49ee-ae03-8871f026f93a",
   "metadata": {},
   "outputs": [
    {
     "data": {
      "text/plain": [
       "0"
      ]
     },
     "execution_count": 8,
     "metadata": {},
     "output_type": "execute_result"
    }
   ],
   "source": [
    "details.duplicated().sum()"
   ]
  },
  {
   "cell_type": "code",
   "execution_count": 9,
   "id": "fba86151-cdb6-4223-b009-6870a54d8b8d",
   "metadata": {},
   "outputs": [
    {
     "data": {
      "text/html": [
       "<div>\n",
       "<style scoped>\n",
       "    .dataframe tbody tr th:only-of-type {\n",
       "        vertical-align: middle;\n",
       "    }\n",
       "\n",
       "    .dataframe tbody tr th {\n",
       "        vertical-align: top;\n",
       "    }\n",
       "\n",
       "    .dataframe thead th {\n",
       "        text-align: right;\n",
       "    }\n",
       "</style>\n",
       "<table border=\"1\" class=\"dataframe\">\n",
       "  <thead>\n",
       "    <tr style=\"text-align: right;\">\n",
       "      <th></th>\n",
       "      <th>Order ID</th>\n",
       "      <th>Order Date</th>\n",
       "      <th>CustomerName</th>\n",
       "      <th>State</th>\n",
       "      <th>City</th>\n",
       "    </tr>\n",
       "  </thead>\n",
       "  <tbody>\n",
       "    <tr>\n",
       "      <th>count</th>\n",
       "      <td>500</td>\n",
       "      <td>500</td>\n",
       "      <td>500</td>\n",
       "      <td>500</td>\n",
       "      <td>500</td>\n",
       "    </tr>\n",
       "    <tr>\n",
       "      <th>unique</th>\n",
       "      <td>500</td>\n",
       "      <td>307</td>\n",
       "      <td>336</td>\n",
       "      <td>19</td>\n",
       "      <td>25</td>\n",
       "    </tr>\n",
       "    <tr>\n",
       "      <th>top</th>\n",
       "      <td>B-26055</td>\n",
       "      <td>24-11-2018</td>\n",
       "      <td>Shreya</td>\n",
       "      <td>Maharashtra</td>\n",
       "      <td>Indore</td>\n",
       "    </tr>\n",
       "    <tr>\n",
       "      <th>freq</th>\n",
       "      <td>1</td>\n",
       "      <td>7</td>\n",
       "      <td>6</td>\n",
       "      <td>94</td>\n",
       "      <td>71</td>\n",
       "    </tr>\n",
       "  </tbody>\n",
       "</table>\n",
       "</div>"
      ],
      "text/plain": [
       "       Order ID  Order Date CustomerName        State    City\n",
       "count       500         500          500          500     500\n",
       "unique      500         307          336           19      25\n",
       "top     B-26055  24-11-2018       Shreya  Maharashtra  Indore\n",
       "freq          1           7            6           94      71"
      ]
     },
     "execution_count": 9,
     "metadata": {},
     "output_type": "execute_result"
    }
   ],
   "source": [
    "# Виведення статистичних показників\n",
    "orders.describe(include='all')"
   ]
  },
  {
   "cell_type": "code",
   "execution_count": 10,
   "id": "c0c50d51-eaf2-463c-82c6-5079c0e7e28a",
   "metadata": {},
   "outputs": [
    {
     "data": {
      "text/html": [
       "<div>\n",
       "<style scoped>\n",
       "    .dataframe tbody tr th:only-of-type {\n",
       "        vertical-align: middle;\n",
       "    }\n",
       "\n",
       "    .dataframe tbody tr th {\n",
       "        vertical-align: top;\n",
       "    }\n",
       "\n",
       "    .dataframe thead th {\n",
       "        text-align: right;\n",
       "    }\n",
       "</style>\n",
       "<table border=\"1\" class=\"dataframe\">\n",
       "  <thead>\n",
       "    <tr style=\"text-align: right;\">\n",
       "      <th></th>\n",
       "      <th>Order ID</th>\n",
       "      <th>Sales</th>\n",
       "      <th>Profit</th>\n",
       "      <th>Quantity</th>\n",
       "      <th>Category</th>\n",
       "      <th>Sub-Category</th>\n",
       "      <th>PaymentMode</th>\n",
       "    </tr>\n",
       "  </thead>\n",
       "  <tbody>\n",
       "    <tr>\n",
       "      <th>count</th>\n",
       "      <td>1500</td>\n",
       "      <td>1500.000000</td>\n",
       "      <td>1500.00000</td>\n",
       "      <td>1500.000000</td>\n",
       "      <td>1500</td>\n",
       "      <td>1500</td>\n",
       "      <td>1500</td>\n",
       "    </tr>\n",
       "    <tr>\n",
       "      <th>unique</th>\n",
       "      <td>500</td>\n",
       "      <td>NaN</td>\n",
       "      <td>NaN</td>\n",
       "      <td>NaN</td>\n",
       "      <td>3</td>\n",
       "      <td>17</td>\n",
       "      <td>5</td>\n",
       "    </tr>\n",
       "    <tr>\n",
       "      <th>top</th>\n",
       "      <td>B-26056</td>\n",
       "      <td>NaN</td>\n",
       "      <td>NaN</td>\n",
       "      <td>NaN</td>\n",
       "      <td>Clothing</td>\n",
       "      <td>Saree</td>\n",
       "      <td>COD</td>\n",
       "    </tr>\n",
       "    <tr>\n",
       "      <th>freq</th>\n",
       "      <td>12</td>\n",
       "      <td>NaN</td>\n",
       "      <td>NaN</td>\n",
       "      <td>NaN</td>\n",
       "      <td>949</td>\n",
       "      <td>211</td>\n",
       "      <td>684</td>\n",
       "    </tr>\n",
       "    <tr>\n",
       "      <th>mean</th>\n",
       "      <td>NaN</td>\n",
       "      <td>291.847333</td>\n",
       "      <td>24.64200</td>\n",
       "      <td>3.743333</td>\n",
       "      <td>NaN</td>\n",
       "      <td>NaN</td>\n",
       "      <td>NaN</td>\n",
       "    </tr>\n",
       "    <tr>\n",
       "      <th>std</th>\n",
       "      <td>NaN</td>\n",
       "      <td>461.924620</td>\n",
       "      <td>168.55881</td>\n",
       "      <td>2.184942</td>\n",
       "      <td>NaN</td>\n",
       "      <td>NaN</td>\n",
       "      <td>NaN</td>\n",
       "    </tr>\n",
       "    <tr>\n",
       "      <th>min</th>\n",
       "      <td>NaN</td>\n",
       "      <td>4.000000</td>\n",
       "      <td>-1981.00000</td>\n",
       "      <td>1.000000</td>\n",
       "      <td>NaN</td>\n",
       "      <td>NaN</td>\n",
       "      <td>NaN</td>\n",
       "    </tr>\n",
       "    <tr>\n",
       "      <th>25%</th>\n",
       "      <td>NaN</td>\n",
       "      <td>47.750000</td>\n",
       "      <td>-12.00000</td>\n",
       "      <td>2.000000</td>\n",
       "      <td>NaN</td>\n",
       "      <td>NaN</td>\n",
       "      <td>NaN</td>\n",
       "    </tr>\n",
       "    <tr>\n",
       "      <th>50%</th>\n",
       "      <td>NaN</td>\n",
       "      <td>122.000000</td>\n",
       "      <td>8.00000</td>\n",
       "      <td>3.000000</td>\n",
       "      <td>NaN</td>\n",
       "      <td>NaN</td>\n",
       "      <td>NaN</td>\n",
       "    </tr>\n",
       "    <tr>\n",
       "      <th>75%</th>\n",
       "      <td>NaN</td>\n",
       "      <td>326.250000</td>\n",
       "      <td>38.00000</td>\n",
       "      <td>5.000000</td>\n",
       "      <td>NaN</td>\n",
       "      <td>NaN</td>\n",
       "      <td>NaN</td>\n",
       "    </tr>\n",
       "    <tr>\n",
       "      <th>max</th>\n",
       "      <td>NaN</td>\n",
       "      <td>5729.000000</td>\n",
       "      <td>1864.00000</td>\n",
       "      <td>14.000000</td>\n",
       "      <td>NaN</td>\n",
       "      <td>NaN</td>\n",
       "      <td>NaN</td>\n",
       "    </tr>\n",
       "  </tbody>\n",
       "</table>\n",
       "</div>"
      ],
      "text/plain": [
       "       Order ID        Sales      Profit     Quantity  Category Sub-Category  \\\n",
       "count      1500  1500.000000  1500.00000  1500.000000      1500         1500   \n",
       "unique      500          NaN         NaN          NaN         3           17   \n",
       "top     B-26056          NaN         NaN          NaN  Clothing        Saree   \n",
       "freq         12          NaN         NaN          NaN       949          211   \n",
       "mean        NaN   291.847333    24.64200     3.743333       NaN          NaN   \n",
       "std         NaN   461.924620   168.55881     2.184942       NaN          NaN   \n",
       "min         NaN     4.000000 -1981.00000     1.000000       NaN          NaN   \n",
       "25%         NaN    47.750000   -12.00000     2.000000       NaN          NaN   \n",
       "50%         NaN   122.000000     8.00000     3.000000       NaN          NaN   \n",
       "75%         NaN   326.250000    38.00000     5.000000       NaN          NaN   \n",
       "max         NaN  5729.000000  1864.00000    14.000000       NaN          NaN   \n",
       "\n",
       "       PaymentMode  \n",
       "count         1500  \n",
       "unique           5  \n",
       "top            COD  \n",
       "freq           684  \n",
       "mean           NaN  \n",
       "std            NaN  \n",
       "min            NaN  \n",
       "25%            NaN  \n",
       "50%            NaN  \n",
       "75%            NaN  \n",
       "max            NaN  "
      ]
     },
     "execution_count": 10,
     "metadata": {},
     "output_type": "execute_result"
    }
   ],
   "source": [
    "details.describe(include='all')"
   ]
  },
  {
   "cell_type": "code",
   "execution_count": null,
   "id": "8ffd394f-25c7-4fe4-ab98-b7e6f25177d0",
   "metadata": {},
   "outputs": [],
   "source": []
  }
 ],
 "metadata": {
  "kernelspec": {
   "display_name": "Python 3 (ipykernel)",
   "language": "python",
   "name": "python3"
  },
  "language_info": {
   "codemirror_mode": {
    "name": "ipython",
    "version": 3
   },
   "file_extension": ".py",
   "mimetype": "text/x-python",
   "name": "python",
   "nbconvert_exporter": "python",
   "pygments_lexer": "ipython3",
   "version": "3.11.7"
  }
 },
 "nbformat": 4,
 "nbformat_minor": 5
}
